{
 "cells": [
  {
   "cell_type": "code",
   "execution_count": null,
   "id": "86f6903b-0fa2-4f43-aae3-d456f0e4118d",
   "metadata": {},
   "outputs": [],
   "source": [
    "# Dowload the dataset\n",
    "dataset_url = \"https://s3.amazonaws.com/fast-ai-imageclas/food-101.tgz\"\n",
    "download_url(dataset_url, '.')"
   ]
  },
  {
   "cell_type": "code",
   "execution_count": null,
   "id": "fb2d25f6-8b58-4621-a422-e07a855a9011",
   "metadata": {},
   "outputs": [],
   "source": [
    "# Extract from archive\n",
    "with tarfile.open('./food-101.tgz', 'r:gz') as tar:\n",
    "    tar.extractall(path='./data')"
   ]
  },
  {
   "cell_type": "code",
   "execution_count": null,
   "id": "7fba1f20-1f1a-4e02-b6e7-1f2676173483",
   "metadata": {},
   "outputs": [],
   "source": [
    "import os\n",
    "import gc\n",
    "from collections import defaultdict\n",
    "from shutil import copy\n",
    "\n",
    "# Helper method to split dataset \n",
    "def split_dataset_train_test(filepath, source,destination):\n",
    "  classes_images = defaultdict(list)\n",
    "  with open(filepath, 'r') as txt:\n",
    "      paths = [read.strip() for read in txt.readlines()]\n",
    "      for p in paths:\n",
    "        food = p.split('/')\n",
    "        classes_images[food[0]].append(food[1] + '.jpg')\n",
    "\n",
    "  for food in classes_images.keys():\n",
    "    if not os.path.exists(os.path.join(destination,food)):\n",
    "      os.makedirs(os.path.join(destination,food))\n",
    "    for i in classes_images[food]:\n",
    "      copy(os.path.join(source,food,i), os.path.join(destination,food,i))\n",
    " "
   ]
  },
  {
   "cell_type": "code",
   "execution_count": null,
   "id": "217be8e0-49cc-4c32-8b08-afa173e065e5",
   "metadata": {},
   "outputs": [],
   "source": [
    "split_dataset_train_test('./data/food-101/train.txt', \n",
    "                         './data/food-101/images',\n",
    "                         'train')"
   ]
  },
  {
   "cell_type": "code",
   "execution_count": null,
   "id": "bf3503c9-4dcc-4652-b79d-5d5077d60ff4",
   "metadata": {},
   "outputs": [],
   "source": [
    "split_dataset_train_test('./data/food-101/test.txt',\n",
    "                         './data/food-101/images', 'test')"
   ]
  },
  {
   "cell_type": "code",
   "execution_count": null,
   "id": "9594e8a8-498c-48c5-9d24-0d9a01138ad0",
   "metadata": {},
   "outputs": [],
   "source": [
    "import os\n",
    "from PIL import Image\n",
    "\n",
    "# Specify the path to your test dataset directory\n",
    "test_dataset_dir = './test'\n",
    "\n",
    "# Target size (width, height)\n",
    "target_size = (32, 32)\n",
    "\n",
    "# Iterate through subdirectories (each subdirectory represents a class)\n",
    "for class_dir in os.listdir(test_dataset_dir):\n",
    "    class_path = os.path.join(test_dataset_dir, class_dir)\n",
    "    \n",
    "    # Check if it's a directory\n",
    "    if os.path.isdir(class_path):\n",
    "        # Get a list of image files in the class directory\n",
    "        image_files = [f for f in os.listdir(class_path) if f.lower().endswith(('.png', '.jpg', '.jpeg', '.gif', '.bmp'))]\n",
    "        \n",
    "        # Iterate through image files in the class directory\n",
    "        for image_file in image_files:\n",
    "            image_path = os.path.join(class_path, image_file)\n",
    "            try:\n",
    "                # Open the image\n",
    "                image = Image.open(image_path)\n",
    "\n",
    "                # Resize the image to the target size\n",
    "                resized_image = image.resize(target_size, Image.ANTIALIAS)\n",
    "\n",
    "                # Save the resized image, overwriting the original file\n",
    "                resized_image.save(image_path)\n",
    "\n",
    "                print(f'Resized and replaced: {image_path}')\n",
    "            except Exception as e:\n",
    "                print(f'Error processing {image_path}: {str(e)}')\n"
   ]
  }
 ],
 "metadata": {
  "kernelspec": {
   "display_name": "Python 3 (ipykernel)",
   "language": "python",
   "name": "python3"
  },
  "language_info": {
   "codemirror_mode": {
    "name": "ipython",
    "version": 3
   },
   "file_extension": ".py",
   "mimetype": "text/x-python",
   "name": "python",
   "nbconvert_exporter": "python",
   "pygments_lexer": "ipython3",
   "version": "3.11.3"
  }
 },
 "nbformat": 4,
 "nbformat_minor": 5
}
